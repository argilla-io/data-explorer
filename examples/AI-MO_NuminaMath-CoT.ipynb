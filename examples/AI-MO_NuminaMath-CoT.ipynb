{
 "cells": [
  {
   "cell_type": "code",
   "execution_count": 1,
   "metadata": {},
   "outputs": [
    {
     "name": "stderr",
     "output_type": "stream",
     "text": [
      "/Users/ben/code/data-explorer/.venv/lib/python3.11/site-packages/tqdm/auto.py:21: TqdmWarning: IProgress not found. Please update jupyter and ipywidgets. See https://ipywidgets.readthedocs.io/en/stable/user_install.html\n",
      "  from .autonotebook import tqdm as notebook_tqdm\n"
     ]
    }
   ],
   "source": [
    "from datasets import load_dataset\n",
    "\n",
    "ds = load_dataset(\"AI-MO/NuminaMath-CoT\", split=\"train[:1000]\")"
   ]
  },
  {
   "cell_type": "code",
   "execution_count": 2,
   "metadata": {},
   "outputs": [
    {
     "data": {
      "text/plain": [
       "Dataset({\n",
       "    features: ['source', 'problem', 'solution', 'messages'],\n",
       "    num_rows: 1000\n",
       "})"
      ]
     },
     "execution_count": 2,
     "metadata": {},
     "output_type": "execute_result"
    }
   ],
   "source": [
    "ds"
   ]
  },
  {
   "cell_type": "code",
   "execution_count": 8,
   "metadata": {},
   "outputs": [
    {
     "name": "stderr",
     "output_type": "stream",
     "text": [
      "/Users/ben/code/data-explorer/.venv/lib/python3.11/site-packages/argilla/datasets/_resource.py:203: UserWarning: Workspace not provided. Using default workspace: new_ws id: f298fcee-cd78-4d4e-80a6-1db66b8f6c44\n",
      "  warnings.warn(f\"Workspace not provided. Using default workspace: {workspace.name} id: {workspace.id}\")\n"
     ]
    },
    {
     "data": {
      "text/plain": [
       "Dataset(id=UUID('7cfbdaf3-ab5c-4c6b-abf7-2f46ccad32b5') inserted_at=datetime.datetime(2024, 8, 1, 10, 47, 35, 137015) updated_at=datetime.datetime(2024, 8, 1, 10, 47, 35, 262856) name='numinamath-cot' status='ready' guidelines='# Guidelines\\n    Your task is to improve the quality of the problems and solutions in this dataset.\\n    \\n    ## Problem\\n    **Problem**: The problem is the question that the student is asked to solve.\\n    \\n    If the problem is clear and error-free, please leave the `improved_problem` field.\\n    \\n    If the problem is unclear, ambiguous, or contains errors, please provide a revised version of the problem via the `improved_problem` field.\\n    \\n    If the the problem is missing or not understand, discard the record.\\n    \\n    ## Solution\\n    - **Solution**: The solution is the correct answer to the problem.\\n    \\n    Give all submitted records a rating based on the quality of the solution from 1 to 5.\\n    \\n    1. **1**: The solution is incorrect.\\n    2. **2**: The solution is partially correct.\\n    3. **3**: The solution is correct but contains errors.\\n    4. **4**: The solution is correct and error-free but could be improved.\\n    5. **5**: The solution is correct and error-free.\\n    \\n    If the solution is correct and error-free, please leave the `improved_solution` field empty.\\n    \\n    If the solution is incorrect, partially correct, or contains errors, please provide a revised version of the solution via the `improved_solution` field.' allow_extra_metadata=False distribution=OverlapTaskDistributionModel(strategy='overlap', min_submitted=1) workspace_id=UUID('f298fcee-cd78-4d4e-80a6-1db66b8f6c44') last_activity_at=datetime.datetime(2024, 8, 1, 10, 47, 35, 262856))"
      ]
     },
     "execution_count": 8,
     "metadata": {},
     "output_type": "execute_result"
    }
   ],
   "source": [
    "from IPython.utils import data\n",
    "import argilla as rg\n",
    "\n",
    "client = rg.Argilla()\n",
    "\n",
    "settings = rg.Settings(\n",
    "    fields=[\n",
    "        rg.TextField(name=\"problem\", use_markdown=True),\n",
    "        rg.TextField(name=\"solution\", use_markdown=True),\n",
    "    ],\n",
    "    metadata=[\n",
    "        rg.TermsMetadataProperty(name=\"source\", options=set(ds[\"source\"])),\n",
    "    ],\n",
    "    questions=[\n",
    "        rg.RatingQuestion(\n",
    "            name=\"rating\",\n",
    "            description=\"How would you rate the quality of this solution?\",\n",
    "            required=True,\n",
    "            values=[1, 2, 3, 4, 5],\n",
    "        ),\n",
    "        rg.TextQuestion(\n",
    "            name=\"improved_problem\",\n",
    "            description=\"How would you improve this problem?\",\n",
    "            use_markdown=True,\n",
    "            required=False,\n",
    "        ),\n",
    "        rg.TextQuestion(\n",
    "            name=\"improved_solution\",\n",
    "            description=\"How would you improve this solution?\",\n",
    "            use_markdown=True,\n",
    "            required=False,\n",
    "        ),\n",
    "    ],\n",
    "    guidelines=\"\"\"# Guidelines\n",
    "    Your task is to improve the quality of the problems and solutions in this dataset.\n",
    "    \n",
    "    ## Problem\n",
    "    **Problem**: The problem is the question that the student is asked to solve.\n",
    "    \n",
    "    If the problem is clear and error-free, please leave the `improved_problem` field.\n",
    "    \n",
    "    If the problem is unclear, ambiguous, or contains errors, please provide a revised version of the problem via the `improved_problem` field.\n",
    "    \n",
    "    If the the problem is missing or not understand, discard the record.\n",
    "    \n",
    "    ## Solution\n",
    "    - **Solution**: The solution is the correct answer to the problem.\n",
    "    \n",
    "    Give all submitted records a rating based on the quality of the solution from 1 to 5.\n",
    "    \n",
    "    1. **1**: The solution is incorrect.\n",
    "    2. **2**: The solution is partially correct.\n",
    "    3. **3**: The solution is correct but contains errors.\n",
    "    4. **4**: The solution is correct and error-free but could be improved.\n",
    "    5. **5**: The solution is correct and error-free.\n",
    "    \n",
    "    If the solution is correct and error-free, please leave the `improved_solution` field empty.\n",
    "    \n",
    "    If the solution is incorrect, partially correct, or contains errors, please provide a revised version of the solution via the `improved_solution` field.\n",
    "    \n",
    "    \"\"\",\n",
    ")\n",
    "\n",
    "dataset = rg.Dataset(\n",
    "    name=\"numinamath-cot\",\n",
    "    settings=settings,\n",
    ")\n",
    "\n",
    "dataset.create()"
   ]
  },
  {
   "cell_type": "code",
   "execution_count": 9,
   "metadata": {},
   "outputs": [
    {
     "name": "stderr",
     "output_type": "stream",
     "text": [
      "Sending records...: 4batch [00:00,  5.60batch/s]                    \n"
     ]
    },
    {
     "data": {
      "text/plain": [
       "DatasetRecords(Dataset(id=UUID('7cfbdaf3-ab5c-4c6b-abf7-2f46ccad32b5') inserted_at=datetime.datetime(2024, 8, 1, 10, 47, 35, 137015) updated_at=datetime.datetime(2024, 8, 1, 10, 47, 35, 262856) name='numinamath-cot' status='ready' guidelines='# Guidelines\\n    Your task is to improve the quality of the problems and solutions in this dataset.\\n    \\n    ## Problem\\n    **Problem**: The problem is the question that the student is asked to solve.\\n    \\n    If the problem is clear and error-free, please leave the `improved_problem` field.\\n    \\n    If the problem is unclear, ambiguous, or contains errors, please provide a revised version of the problem via the `improved_problem` field.\\n    \\n    If the the problem is missing or not understand, discard the record.\\n    \\n    ## Solution\\n    - **Solution**: The solution is the correct answer to the problem.\\n    \\n    Give all submitted records a rating based on the quality of the solution from 1 to 5.\\n    \\n    1. **1**: The solution is incorrect.\\n    2. **2**: The solution is partially correct.\\n    3. **3**: The solution is correct but contains errors.\\n    4. **4**: The solution is correct and error-free but could be improved.\\n    5. **5**: The solution is correct and error-free.\\n    \\n    If the solution is correct and error-free, please leave the `improved_solution` field empty.\\n    \\n    If the solution is incorrect, partially correct, or contains errors, please provide a revised version of the solution via the `improved_solution` field.' allow_extra_metadata=False distribution=OverlapTaskDistributionModel(strategy='overlap', min_submitted=1) workspace_id=UUID('f298fcee-cd78-4d4e-80a6-1db66b8f6c44') last_activity_at=datetime.datetime(2024, 8, 1, 10, 47, 35, 262856)))"
      ]
     },
     "execution_count": 9,
     "metadata": {},
     "output_type": "execute_result"
    }
   ],
   "source": [
    "dataset.records.log(ds)"
   ]
  }
 ],
 "metadata": {
  "kernelspec": {
   "display_name": ".venv",
   "language": "python",
   "name": "python3"
  },
  "language_info": {
   "codemirror_mode": {
    "name": "ipython",
    "version": 3
   },
   "file_extension": ".py",
   "mimetype": "text/x-python",
   "name": "python",
   "nbconvert_exporter": "python",
   "pygments_lexer": "ipython3",
   "version": "3.11.9"
  }
 },
 "nbformat": 4,
 "nbformat_minor": 2
}
